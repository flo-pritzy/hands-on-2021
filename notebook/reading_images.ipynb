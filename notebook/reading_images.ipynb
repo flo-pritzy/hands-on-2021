{
 "cells": [
  {
   "cell_type": "code",
   "execution_count": 3,
   "id": "mobile-coral",
   "metadata": {},
   "outputs": [],
   "source": [
    "import pandas as pd\n",
    "import matplotlib.pyplot as plt"
   ]
  },
  {
   "cell_type": "markdown",
   "id": "amended-flash",
   "metadata": {},
   "source": [
    "##### Structure la façon dont on va faire l'apprentissage : loop, 7x30= 210 images\n",
    "##### Panneaux a des distances différentes + - gros.. "
   ]
  },
  {
   "cell_type": "code",
   "execution_count": 4,
   "id": "taken-shareware",
   "metadata": {},
   "outputs": [],
   "source": [
    "from PIL import Image\n",
    "img = Image.open(\"../data/raw/Final_Training/Images/00000/00000_00000.ppm\")"
   ]
  },
  {
   "cell_type": "code",
   "execution_count": 5,
   "id": "radio-variety",
   "metadata": {},
   "outputs": [
    {
     "data": {
      "text/plain": [
       "<matplotlib.image.AxesImage at 0x7fa6d80af7b8>"
      ]
     },
     "execution_count": 5,
     "metadata": {},
     "output_type": "execute_result"
    },
    {
     "data": {
      "image/png": "[encoded data removed]",
      "text/plain": [
       "<Figure size 432x288 with 1 Axes>"
      ]
     },
     "metadata": {
      "needs_background": "light"
     },
     "output_type": "display_data"
    }
   ],
   "source": [
    "plt.imshow(img)"
   ]
  },
  {
   "cell_type": "code",
   "execution_count": null,
   "id": "coral-thompson",
   "metadata": {},
   "outputs": [],
   "source": [
    " "
   ]
  }
 ],
 "metadata": {
  "kernelspec": {
   "display_name": "Python 3",
   "language": "python",
   "name": "python3"
  },
  "language_info": {
   "codemirror_mode": {
    "name": "ipython",
    "version": 3
   },
   "file_extension": ".py",
   "mimetype": "text/x-python",
   "name": "python",
   "nbconvert_exporter": "python",
   "pygments_lexer": "ipython3",
   "version": "3.7.1"
  }
 },
 "nbformat": 4,
 "nbformat_minor": 5
}
